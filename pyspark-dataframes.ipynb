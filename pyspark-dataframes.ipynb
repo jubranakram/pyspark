{
 "cells": [
  {
   "cell_type": "markdown",
   "id": "f535e1a3-6abf-4272-aac6-78a5db945e7d",
   "metadata": {},
   "source": [
    "#### Exercise\n",
    "\n",
    "1. Create a spark session\n",
    "2. Load CSV data\n",
    "3. Check schema and show dataframe\n",
    "4. Check datatypes and column names\n",
    "5. Drop column(s)\n",
    "6. Rename column(s)\n",
    "7. Summary statistics (describe)\n",
    "8. Check missing values\n",
    "9. Use SQL queries\n",
    "10. Add column(s)\n",
    "11. Aggregate\n"
   ]
  },
  {
   "cell_type": "markdown",
   "id": "74a05173-e853-4f02-bb48-3e3c5a2eb2bd",
   "metadata": {},
   "source": [
    "#### Spark session"
   ]
  },
  {
   "cell_type": "code",
   "execution_count": 1,
   "id": "9d5766ac-ba20-461a-9dc1-4a77603623c3",
   "metadata": {},
   "outputs": [],
   "source": [
    "from pyspark.sql import SparkSession\n",
    "from pyspark.sql.functions import col, avg"
   ]
  },
  {
   "cell_type": "code",
   "execution_count": 2,
   "id": "79bb69b5-3ebc-4444-9a2a-af37cbbb4396",
   "metadata": {},
   "outputs": [
    {
     "data": {
      "text/html": [
       "\n",
       "            <div>\n",
       "                <p><b>SparkSession - in-memory</b></p>\n",
       "                \n",
       "        <div>\n",
       "            <p><b>SparkContext</b></p>\n",
       "\n",
       "            <p><a href=\"http://host.docker.internal:4040\">Spark UI</a></p>\n",
       "\n",
       "            <dl>\n",
       "              <dt>Version</dt>\n",
       "                <dd><code>v3.5.1</code></dd>\n",
       "              <dt>Master</dt>\n",
       "                <dd><code>local[*]</code></dd>\n",
       "              <dt>AppName</dt>\n",
       "                <dd><code>DataFrames</code></dd>\n",
       "            </dl>\n",
       "        </div>\n",
       "        \n",
       "            </div>\n",
       "        "
      ],
      "text/plain": [
       "<pyspark.sql.session.SparkSession at 0x1c8ff405850>"
      ]
     },
     "execution_count": 2,
     "metadata": {},
     "output_type": "execute_result"
    }
   ],
   "source": [
    "spark = SparkSession.builder.appName('DataFrames').getOrCreate()\n",
    "\n",
    "spark"
   ]
  },
  {
   "cell_type": "markdown",
   "id": "61a025b9-31ea-4445-b0f0-4600ab6efb9d",
   "metadata": {},
   "source": [
    "#### CSV load\n"
   ]
  },
  {
   "cell_type": "code",
   "execution_count": 3,
   "id": "7c449481-cb57-4f19-bf22-5ee0a8d2b86c",
   "metadata": {},
   "outputs": [
    {
     "name": "stdout",
     "output_type": "stream",
     "text": [
      "root\n",
      " |-- _c0: string (nullable = true)\n",
      " |-- _c1: string (nullable = true)\n",
      " |-- _c2: string (nullable = true)\n",
      " |-- _c3: string (nullable = true)\n",
      " |-- _c4: string (nullable = true)\n",
      " |-- _c5: string (nullable = true)\n",
      " |-- _c6: string (nullable = true)\n",
      "\n"
     ]
    }
   ],
   "source": [
    "spark.read.csv('housing.csv').printSchema()"
   ]
  },
  {
   "cell_type": "code",
   "execution_count": 4,
   "id": "419dec94-0fe1-48d8-92b9-5463d81bc7ee",
   "metadata": {},
   "outputs": [
    {
     "name": "stdout",
     "output_type": "stream",
     "text": [
      "root\n",
      " |-- Avg. Area Income: string (nullable = true)\n",
      " |-- Avg. Area House Age: string (nullable = true)\n",
      " |-- Avg. Area Number of Rooms: string (nullable = true)\n",
      " |-- Avg. Area Number of Bedrooms: string (nullable = true)\n",
      " |-- Area Population: string (nullable = true)\n",
      " |-- Price: string (nullable = true)\n",
      " |-- Address: string (nullable = true)\n",
      "\n"
     ]
    }
   ],
   "source": [
    "spark.read.csv('housing.csv', header=True).printSchema()"
   ]
  },
  {
   "cell_type": "code",
   "execution_count": 5,
   "id": "9f3f294a-df46-4833-b69e-0d13fa301972",
   "metadata": {},
   "outputs": [
    {
     "name": "stdout",
     "output_type": "stream",
     "text": [
      "root\n",
      " |-- Avg. Area Income: string (nullable = true)\n",
      " |-- Avg. Area House Age: string (nullable = true)\n",
      " |-- Avg. Area Number of Rooms: double (nullable = true)\n",
      " |-- Avg. Area Number of Bedrooms: double (nullable = true)\n",
      " |-- Area Population: double (nullable = true)\n",
      " |-- Price: double (nullable = true)\n",
      " |-- Address: string (nullable = true)\n",
      "\n"
     ]
    }
   ],
   "source": [
    "spark.read.csv('housing.csv', header=True, inferSchema=True).printSchema()"
   ]
  },
  {
   "cell_type": "code",
   "execution_count": null,
   "id": "6d954db3-d8bf-4403-8871-8aeffd55e45c",
   "metadata": {
    "jupyter": {
     "source_hidden": true
    }
   },
   "outputs": [],
   "source": [
    "spark.read.csv('housing.csv', header=True, inferSchema=True).show(2)"
   ]
  },
  {
   "cell_type": "code",
   "execution_count": 6,
   "id": "3638f3f8-cb81-44db-861f-9d8fc1b95ba8",
   "metadata": {},
   "outputs": [
    {
     "name": "stdout",
     "output_type": "stream",
     "text": [
      "root\n",
      " |-- Avg. Area Income: double (nullable = true)\n",
      " |-- Avg. Area House Age: double (nullable = true)\n",
      " |-- Avg. Area Number of Rooms: double (nullable = true)\n",
      " |-- Avg. Area Number of Bedrooms: double (nullable = true)\n",
      " |-- Area Population: double (nullable = true)\n",
      " |-- Price: double (nullable = true)\n",
      " |-- Address: string (nullable = true)\n",
      "\n"
     ]
    }
   ],
   "source": [
    "spark.read.csv('housing.csv', header=True, inferSchema=True, multiLine=True).printSchema()"
   ]
  },
  {
   "cell_type": "code",
   "execution_count": 7,
   "id": "6303c37f-b6e7-4c1e-95cd-98f788b4f1e1",
   "metadata": {},
   "outputs": [],
   "source": [
    "df = spark.read.csv('housing.csv', header=True, inferSchema=True, multiLine=True)\n"
   ]
  },
  {
   "cell_type": "markdown",
   "id": "17a0e89e-b23c-4b95-aaaa-bb00503bdc93",
   "metadata": {},
   "source": [
    "#### Check schema and show dataframe"
   ]
  },
  {
   "cell_type": "code",
   "execution_count": 8,
   "id": "70a9124f-d5db-4a82-af41-ce05a6d42178",
   "metadata": {},
   "outputs": [
    {
     "name": "stdout",
     "output_type": "stream",
     "text": [
      "root\n",
      " |-- Avg. Area Income: double (nullable = true)\n",
      " |-- Avg. Area House Age: double (nullable = true)\n",
      " |-- Avg. Area Number of Rooms: double (nullable = true)\n",
      " |-- Avg. Area Number of Bedrooms: double (nullable = true)\n",
      " |-- Area Population: double (nullable = true)\n",
      " |-- Price: double (nullable = true)\n",
      " |-- Address: string (nullable = true)\n",
      "\n"
     ]
    }
   ],
   "source": [
    "df.printSchema()"
   ]
  },
  {
   "cell_type": "code",
   "execution_count": 9,
   "id": "0dd51067-1cff-4c96-aecf-2eb50042e09a",
   "metadata": {},
   "outputs": [
    {
     "name": "stdout",
     "output_type": "stream",
     "text": [
      "+----------------+-------------------+-------------------------+----------------------------+---------------+-----------+--------------------+\n",
      "|Avg. Area Income|Avg. Area House Age|Avg. Area Number of Rooms|Avg. Area Number of Bedrooms|Area Population|      Price|             Address|\n",
      "+----------------+-------------------+-------------------------+----------------------------+---------------+-----------+--------------------+\n",
      "|     79545.45857|        5.682861322|              7.009188143|                        4.09|     23086.8005|1059033.558|208 Michael Ferry...|\n",
      "|     79248.64245|        6.002899808|              6.730821019|                        3.09|    40173.07217|1505890.915|188 Johnson Views...|\n",
      "|     61287.06718|         5.86588984|               8.51272743|                        5.13|     36882.1594|1058987.988|9127 Elizabeth St...|\n",
      "+----------------+-------------------+-------------------------+----------------------------+---------------+-----------+--------------------+\n",
      "only showing top 3 rows\n",
      "\n"
     ]
    }
   ],
   "source": [
    "df.show(3)"
   ]
  },
  {
   "cell_type": "markdown",
   "id": "f96c77ba-abbe-4eff-853e-39720c81fcee",
   "metadata": {},
   "source": [
    "#### Check data types and column names"
   ]
  },
  {
   "cell_type": "code",
   "execution_count": 10,
   "id": "7e8579ee-7de2-452d-bd80-6cf2f6aa8987",
   "metadata": {},
   "outputs": [
    {
     "data": {
      "text/plain": [
       "['Avg. Area Income',\n",
       " 'Avg. Area House Age',\n",
       " 'Avg. Area Number of Rooms',\n",
       " 'Avg. Area Number of Bedrooms',\n",
       " 'Area Population',\n",
       " 'Price',\n",
       " 'Address']"
      ]
     },
     "execution_count": 10,
     "metadata": {},
     "output_type": "execute_result"
    }
   ],
   "source": [
    "df.columns"
   ]
  },
  {
   "cell_type": "code",
   "execution_count": 11,
   "id": "1640916f-d383-41e2-a722-1eb261bb1ae1",
   "metadata": {},
   "outputs": [
    {
     "data": {
      "text/plain": [
       "[('Avg. Area Income', 'double'),\n",
       " ('Avg. Area House Age', 'double'),\n",
       " ('Avg. Area Number of Rooms', 'double'),\n",
       " ('Avg. Area Number of Bedrooms', 'double'),\n",
       " ('Area Population', 'double'),\n",
       " ('Price', 'double'),\n",
       " ('Address', 'string')]"
      ]
     },
     "execution_count": 11,
     "metadata": {},
     "output_type": "execute_result"
    }
   ],
   "source": [
    "df.dtypes"
   ]
  },
  {
   "cell_type": "markdown",
   "id": "86a3755c-fb3b-4b03-87e6-0a93afa77a48",
   "metadata": {},
   "source": [
    "#### Drop column(s)"
   ]
  },
  {
   "cell_type": "code",
   "execution_count": 12,
   "id": "7abf8e6f-10be-420f-b310-92ddc29a9f01",
   "metadata": {},
   "outputs": [
    {
     "name": "stdout",
     "output_type": "stream",
     "text": [
      "+----------------+-------------------+-------------------------+----------------------------+---------------+-----------+\n",
      "|Avg. Area Income|Avg. Area House Age|Avg. Area Number of Rooms|Avg. Area Number of Bedrooms|Area Population|      Price|\n",
      "+----------------+-------------------+-------------------------+----------------------------+---------------+-----------+\n",
      "|     79545.45857|        5.682861322|              7.009188143|                        4.09|     23086.8005|1059033.558|\n",
      "|     79248.64245|        6.002899808|              6.730821019|                        3.09|    40173.07217|1505890.915|\n",
      "|     61287.06718|         5.86588984|               8.51272743|                        5.13|     36882.1594|1058987.988|\n",
      "|     63345.24005|        7.188236095|              5.586728665|                        3.26|    34310.24283|1260616.807|\n",
      "|     59982.19723|        5.040554523|              7.839387785|                        4.23|    26354.10947|630943.4893|\n",
      "|     80175.75416|        4.988407758|              6.104512439|                        4.04|    26748.42842|1068138.074|\n",
      "|     64698.46343|        6.025335907|              8.147759585|                        3.41|    60828.24909|1502055.817|\n",
      "|     78394.33928|        6.989779748|              6.620477995|                        2.42|    36516.35897|1573936.564|\n",
      "|     59927.66081|         5.36212557|              6.393120981|                         2.3|      29387.396|798869.5328|\n",
      "|     81885.92718|         4.42367179|              8.167688003|                         6.1|    40149.96575|1545154.813|\n",
      "|     80527.47208|        8.093512681|                5.0427468|                         4.1|    47224.35984|1707045.722|\n",
      "|      50593.6955|        4.496512793|              7.467627404|                        4.49|    34343.99189|663732.3969|\n",
      "|     39033.80924|        7.671755373|              7.250029317|                         3.1|    39220.36147|1042814.098|\n",
      "|     73163.66344|        6.919534825|              5.993187901|                        2.27|    32326.12314|1291331.518|\n",
      "|     69391.38018|        5.344776177|              8.406417715|                        4.37|    35521.29403| 1402818.21|\n",
      "|     73091.86675|        5.443156467|              8.517512711|                        4.01|    23929.52405| 1306674.66|\n",
      "|     79706.96306|        5.067889591|              8.219771123|                        3.12|    39717.81358|  1556786.6|\n",
      "|     61929.07702|        4.788550242|              5.097009554|                         4.3|     24595.9015|528485.2467|\n",
      "|      63508.1943|         5.94716514|              7.187773835|                        5.12|    35719.65305|1019425.937|\n",
      "|      62085.2764|        5.739410844|              7.091808104|                        5.49|     44922.1067|1030591.429|\n",
      "+----------------+-------------------+-------------------------+----------------------------+---------------+-----------+\n",
      "only showing top 20 rows\n",
      "\n"
     ]
    }
   ],
   "source": [
    "df.drop('Address').show()"
   ]
  },
  {
   "cell_type": "code",
   "execution_count": 13,
   "id": "419b5872-0050-4c0f-a6a3-fa8fac609db8",
   "metadata": {},
   "outputs": [],
   "source": [
    "df = df.drop('Address')"
   ]
  },
  {
   "cell_type": "code",
   "execution_count": 14,
   "id": "a21ff833-cc0b-4bc2-9644-265d92fcc825",
   "metadata": {},
   "outputs": [
    {
     "name": "stdout",
     "output_type": "stream",
     "text": [
      "+----------------+-------------------+-------------------------+----------------------------+---------------+-----------+\n",
      "|Avg. Area Income|Avg. Area House Age|Avg. Area Number of Rooms|Avg. Area Number of Bedrooms|Area Population|      Price|\n",
      "+----------------+-------------------+-------------------------+----------------------------+---------------+-----------+\n",
      "|     79545.45857|        5.682861322|              7.009188143|                        4.09|     23086.8005|1059033.558|\n",
      "|     79248.64245|        6.002899808|              6.730821019|                        3.09|    40173.07217|1505890.915|\n",
      "+----------------+-------------------+-------------------------+----------------------------+---------------+-----------+\n",
      "only showing top 2 rows\n",
      "\n"
     ]
    }
   ],
   "source": [
    "df.show(2)"
   ]
  },
  {
   "cell_type": "markdown",
   "id": "7799e276-4679-44d9-b797-c2cbfddd8955",
   "metadata": {},
   "source": [
    "#### Rename column(s)"
   ]
  },
  {
   "cell_type": "code",
   "execution_count": 15,
   "id": "6d5bab7b-070d-4c52-82f5-84d2e9e1e922",
   "metadata": {},
   "outputs": [],
   "source": [
    "column_names = df.columns"
   ]
  },
  {
   "cell_type": "code",
   "execution_count": 33,
   "id": "60889d6a-a243-44aa-bc31-5d156b62e917",
   "metadata": {},
   "outputs": [
    {
     "data": {
      "text/plain": [
       "'house_age'"
      ]
     },
     "execution_count": 33,
     "metadata": {},
     "output_type": "execute_result"
    }
   ],
   "source": [
    "'_'.join(column_names[1].split('Area')[-1].strip().lower().split(' '))"
   ]
  },
  {
   "cell_type": "code",
   "execution_count": 34,
   "id": "f0f4e43b-c7c6-4bc7-9f3f-7fd5da90ea3e",
   "metadata": {},
   "outputs": [
    {
     "data": {
      "text/plain": [
       "{'Avg. Area Income': 'income',\n",
       " 'Avg. Area House Age': 'house_age',\n",
       " 'Avg. Area Number of Rooms': 'number_of_rooms',\n",
       " 'Avg. Area Number of Bedrooms': 'number_of_bedrooms',\n",
       " 'Area Population': 'population',\n",
       " 'Price': 'price'}"
      ]
     },
     "execution_count": 34,
     "metadata": {},
     "output_type": "execute_result"
    }
   ],
   "source": [
    "col_rename = lambda x: '_'.join([val.lower() for val in x.split('Area')[-1].strip().split(' ')])\n",
    "column_map = {c : col_rename(c) for c in column_names}\n",
    "column_map"
   ]
  },
  {
   "cell_type": "code",
   "execution_count": 35,
   "id": "72aecaaa-a1b1-4626-aa98-f6ba1aa53d37",
   "metadata": {},
   "outputs": [],
   "source": [
    "for k, v in column_map.items():\n",
    "    df = df.withColumnRenamed(k, v)"
   ]
  },
  {
   "cell_type": "code",
   "execution_count": 36,
   "id": "a9a3bba2-79ea-4fd9-9d71-9420eca4d45f",
   "metadata": {},
   "outputs": [
    {
     "data": {
      "text/plain": [
       "['income',\n",
       " 'house_age',\n",
       " 'number_of_rooms',\n",
       " 'number_of_bedrooms',\n",
       " 'population',\n",
       " 'price']"
      ]
     },
     "execution_count": 36,
     "metadata": {},
     "output_type": "execute_result"
    }
   ],
   "source": [
    "df.columns"
   ]
  },
  {
   "cell_type": "markdown",
   "id": "951246ca-c68c-4d28-a641-8838f548af30",
   "metadata": {},
   "source": [
    "#### Summary statistics or info"
   ]
  },
  {
   "cell_type": "code",
   "execution_count": 37,
   "id": "3b7fab1f-c47b-4de8-adf9-6de08dd7b114",
   "metadata": {},
   "outputs": [
    {
     "name": "stdout",
     "output_type": "stream",
     "text": [
      "+-------+------------------+------------------+------------------+------------------+-----------------+------------------+\n",
      "|summary|            income|         house_age|   number_of_rooms|number_of_bedrooms|       population|             price|\n",
      "+-------+------------------+------------------+------------------+------------------+-----------------+------------------+\n",
      "|  count|              5000|              5000|              5000|              5000|             5000|              5000|\n",
      "|   mean| 68583.10898397019| 5.977222035287008| 6.987791850909204|3.9813299999999967|36163.51603854035|1232072.6541452995|\n",
      "| stddev|10657.991213888685|0.9914561798324225|1.0058332312754115|1.2341372654846832|9925.650113546026| 353117.6265836953|\n",
      "|    min|       17796.63119|       2.644304186|       3.236194023|               2.0|      172.6106863|       15938.65792|\n",
      "|    max|       107701.7484|       9.519088066|       10.75958834|               6.5|      69621.71338|       2469065.594|\n",
      "+-------+------------------+------------------+------------------+------------------+-----------------+------------------+\n",
      "\n"
     ]
    }
   ],
   "source": [
    "df.describe(df.columns).show()"
   ]
  },
  {
   "cell_type": "markdown",
   "id": "ec66548e-f9db-4295-a70e-105bd03a2344",
   "metadata": {},
   "source": [
    "#### Check missing values"
   ]
  },
  {
   "cell_type": "code",
   "execution_count": 39,
   "id": "118419c1-33e0-495f-a618-7194b60a9fb3",
   "metadata": {},
   "outputs": [
    {
     "data": {
      "text/plain": [
       "5000"
      ]
     },
     "execution_count": 39,
     "metadata": {},
     "output_type": "execute_result"
    }
   ],
   "source": [
    "df.filter(col('number_of_rooms').isNotNull()).count()"
   ]
  },
  {
   "cell_type": "code",
   "execution_count": 40,
   "id": "1bf05417-a0ac-438c-941e-2ee3a32bf97c",
   "metadata": {},
   "outputs": [
    {
     "data": {
      "text/plain": [
       "0"
      ]
     },
     "execution_count": 40,
     "metadata": {},
     "output_type": "execute_result"
    }
   ],
   "source": [
    "missing_values = 0\n",
    "for c in df.columns:\n",
    "    missing_values += df.filter(col(c).isNull()).count()\n",
    "missing_values"
   ]
  },
  {
   "cell_type": "markdown",
   "id": "9e6900f5-64cf-457d-bdc3-e0ab913ce840",
   "metadata": {},
   "source": [
    "#### Use SQL to check the number of rows in the dataframe\n",
    "\n"
   ]
  },
  {
   "cell_type": "code",
   "execution_count": 41,
   "id": "2b4525f2-64c9-4edc-bc09-910a710615b3",
   "metadata": {},
   "outputs": [
    {
     "name": "stdout",
     "output_type": "stream",
     "text": [
      "+--------+\n",
      "|count(1)|\n",
      "+--------+\n",
      "|    5000|\n",
      "+--------+\n",
      "\n"
     ]
    }
   ],
   "source": [
    "df.createOrReplaceTempView('Housing')\n",
    "spark.sql(\"SELECT count(*) from Housing\").show()"
   ]
  },
  {
   "cell_type": "markdown",
   "id": "bd0a3b8f-d1c1-43a9-b685-11a4e40cdf55",
   "metadata": {},
   "source": [
    "#### Add columns"
   ]
  },
  {
   "cell_type": "code",
   "execution_count": 42,
   "id": "f70676ea-816e-41d3-a478-f5cc9ab8e810",
   "metadata": {},
   "outputs": [
    {
     "name": "stdout",
     "output_type": "stream",
     "text": [
      "+-----------+-----------+---------------+------------------+-----------+-----------+------------------+\n",
      "|     income|  house_age|number_of_rooms|number_of_bedrooms| population|      price|         R2BRRatio|\n",
      "+-----------+-----------+---------------+------------------+-----------+-----------+------------------+\n",
      "|79545.45857|5.682861322|    7.009188143|              4.09| 23086.8005|1059033.558|1.7137379322738389|\n",
      "|79248.64245|6.002899808|    6.730821019|              3.09|40173.07217|1505890.915|2.1782592294498384|\n",
      "+-----------+-----------+---------------+------------------+-----------+-----------+------------------+\n",
      "only showing top 2 rows\n",
      "\n"
     ]
    }
   ],
   "source": [
    "df.withColumn('R2BRRatio', col('number_of_rooms')/col('number_of_bedrooms')).show(2)"
   ]
  },
  {
   "cell_type": "markdown",
   "id": "211811ca-1299-41a0-ab4d-b008c520ed80",
   "metadata": {},
   "source": [
    "#### Filtering and aggregate"
   ]
  },
  {
   "cell_type": "code",
   "execution_count": 43,
   "id": "e854b4a1-e385-4201-95b6-592c7f1b20ff",
   "metadata": {},
   "outputs": [
    {
     "name": "stdout",
     "output_type": "stream",
     "text": [
      "This dataset has 1135 houses above 1500000 dollars price.\n"
     ]
    }
   ],
   "source": [
    "# Find number of houses with prices more than 1.5 million (i.e., 1500000)\n",
    "n = 1500000\n",
    "print(f\"This dataset has {df.filter(df['price'] > n).count()} houses above {n} dollars price.\")"
   ]
  },
  {
   "cell_type": "code",
   "execution_count": 44,
   "id": "1d4292d5-937a-4748-ab46-6763220ef6df",
   "metadata": {},
   "outputs": [],
   "source": [
    "# What's the average total rooms to bedrooms ratio for houses greater than 2 million dollars price.\n",
    "n = 2000000\n",
    "df_expensive = df.filter(df['price'] > n).withColumn('R2BRRatio', col('number_of_rooms')/col('number_of_bedrooms'))"
   ]
  },
  {
   "cell_type": "code",
   "execution_count": 45,
   "id": "4c09a011-480e-40e9-b262-293c5239aa21",
   "metadata": {},
   "outputs": [
    {
     "name": "stdout",
     "output_type": "stream",
     "text": [
      "+-----------+-----------+---------------+------------------+-----------+-----------+------------------+\n",
      "|     income|  house_age|number_of_rooms|number_of_bedrooms| population|      price|         R2BRRatio|\n",
      "+-----------+-----------+---------------+------------------+-----------+-----------+------------------+\n",
      "|86294.99909| 6.62745694|    8.011897853|              4.07|47560.77534| 2146925.34| 1.968525271007371|\n",
      "|95450.29309|6.595060685|    6.850361008|              3.33|39388.51552|2014851.344| 2.057165467867868|\n",
      "| 85845.3178|6.743652961|    9.468766369|              3.46|46477.67868|2152959.409|2.7366376789017344|\n",
      "|91159.41833|6.536045428|    7.373850919|              3.01| 54861.0911|2298379.487| 2.449784358471761|\n",
      "|87266.34023|8.248959366|    7.234261404|               5.0|45161.18768|2249122.541|      1.4468522808|\n",
      "+-----------+-----------+---------------+------------------+-----------+-----------+------------------+\n",
      "only showing top 5 rows\n",
      "\n"
     ]
    }
   ],
   "source": [
    "df_expensive.show(5)"
   ]
  },
  {
   "cell_type": "code",
   "execution_count": 46,
   "id": "c52ac566-8d83-43eb-98f2-dcdb7b94a266",
   "metadata": {},
   "outputs": [
    {
     "name": "stdout",
     "output_type": "stream",
     "text": [
      "+------------------+\n",
      "|    avg(R2BRRatio)|\n",
      "+------------------+\n",
      "|1.9771330636775544|\n",
      "+------------------+\n",
      "\n"
     ]
    }
   ],
   "source": [
    "df_expensive.agg(avg('R2BRRatio')).show()"
   ]
  },
  {
   "cell_type": "markdown",
   "id": "86ad8073-90a0-4449-b169-a497b1720936",
   "metadata": {},
   "source": [
    "#### Stop session when done"
   ]
  },
  {
   "cell_type": "code",
   "execution_count": 47,
   "id": "7b0554bd-f3e3-4792-9149-2cc82d988bb2",
   "metadata": {},
   "outputs": [],
   "source": [
    "spark.stop()"
   ]
  },
  {
   "cell_type": "code",
   "execution_count": null,
   "id": "6f053028-7b4b-4a42-920c-afa7ec4a804c",
   "metadata": {},
   "outputs": [],
   "source": []
  }
 ],
 "metadata": {
  "kernelspec": {
   "display_name": "Python 3 (ipykernel)",
   "language": "python",
   "name": "python3"
  },
  "language_info": {
   "codemirror_mode": {
    "name": "ipython",
    "version": 3
   },
   "file_extension": ".py",
   "mimetype": "text/x-python",
   "name": "python",
   "nbconvert_exporter": "python",
   "pygments_lexer": "ipython3",
   "version": "3.11.8"
  }
 },
 "nbformat": 4,
 "nbformat_minor": 5
}
